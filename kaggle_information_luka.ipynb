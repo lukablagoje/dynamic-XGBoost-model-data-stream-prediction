{
 "cells": [
  {
   "cell_type": "code",
   "execution_count": null,
   "id": "520ca3eb",
   "metadata": {},
   "outputs": [],
   "source": [
    "Source: https://www.kaggle.com/competitions/optiver-trading-at-the-close/discussion/441590"
   ]
  },
  {
   "cell_type": "markdown",
   "id": "93ef8fd6",
   "metadata": {},
   "source": [
    "## 1 Are train and test date continous?\n",
    "Hello,\n",
    "\n",
    "Following up with a question from other kagglers\n",
    "*https://www.kaggle.com/competitions/optiver-trading-at-the-close/discussion/441590#2456017z\n",
    "*https://www.kaggle.com/competitions/optiver-trading-at-the-close/discussion/441590#2460608\n",
    "\n",
    "Are the train and test dates continuous? i.e. the first date from the test set is the immediate date after the last date_id in the train set?\n",
    "\n",
    "Also, what is the continuity in test set? if the leaderboard is 94+6% and the 6% will be with live data then there is no continuity between the 94%? and the 6%? i.e. there are at least 3 months in between?\n",
    "\n",
    "### Answer\n",
    "Hi @joseantonioalatorre, yes the train and test dates are continuous as you describe. Train set date ids are 0-480, test ids start from 481 and are a 2.5 month (approx) continuous set starting immediately after the end of the training set."
   ]
  },
  {
   "cell_type": "markdown",
   "id": "24ba1169",
   "metadata": {},
   "source": [
    "## 2\n",
    "\n",
    "Hello!\n",
    "\n",
    "Thanks for providing such a great competition!\n",
    "\n",
    "I have some questions regarding the structure of the test dataset. In train.csv, I noticed that the data contains the trading snapshots sampled (per 10s) during the last 10min of 481 trading days for 200 stocks. On every trading day, one stock has 600 sampled snapshots.\n",
    "\n",
    "Regarding the test dataset, I would like to know: Will the test dataset also contain the complete 10min snapshots (600 samples) for every given stock and date? Or it would rather contain only incomplete and randomly sampled snapshots?\n",
    "\n",
    "## Answer\n"
   ]
  },
  {
   "cell_type": "markdown",
   "id": "a0226a03",
   "metadata": {},
   "source": [
    "Hi @shiyili, thanks for your question. For any given stock on any given day, the data you have in train.csv will be snapshots at 10s intervals from 0s to 540s inclusive, therefore 55 snapshots. The test dataset has the exact same structure as the train data. The api will return the test data sequentially, so you will be able to use rolling features etc…\n",
    "\n",
    "## Followup\n",
    "\n",
    "Hi Tom, thanks for clarifying on this.\n",
    "Does this mean that on the test set/environment, revealed_targets would only be available on the next date_id?\n",
    "Meaning that, for example, at seconds_in_bucket == 530, I would still not know target values for seconds_in_bucket == 10 for the same date_id? Therefore, any feature we extract from target should not include target values from the same date_id. Is my understanding correct?\n",
    "\n",
    "Thanks\n",
    "\n",
    "### Answer\n",
    "@marcodibartolo98 Correct."
   ]
  },
  {
   "cell_type": "markdown",
   "id": "fcfe0435",
   "metadata": {},
   "source": [
    "### 3 Why do we get the initial 9 out of 10 minutes of the data?\n",
    "Because we are predicting all stock prices plus the index price at the end of the ten minute auction window, when the official close happens, we only get market data covering the first 9 minutes of the actual auction. So the training data doesn’t have the official close price."
   ]
  },
  {
   "cell_type": "markdown",
   "id": "801f171f",
   "metadata": {},
   "source": [
    "## Simple explanation of features\n",
    "https://www.kaggle.com/competitions/optiver-trading-at-the-close/discussion/444516"
   ]
  },
  {
   "cell_type": "code",
   "execution_count": null,
   "id": "bdc5cebc",
   "metadata": {},
   "outputs": [],
   "source": []
  }
 ],
 "metadata": {
  "kernelspec": {
   "display_name": "Python 3 (ipykernel)",
   "language": "python",
   "name": "python3"
  },
  "language_info": {
   "codemirror_mode": {
    "name": "ipython",
    "version": 3
   },
   "file_extension": ".py",
   "mimetype": "text/x-python",
   "name": "python",
   "nbconvert_exporter": "python",
   "pygments_lexer": "ipython3",
   "version": "3.8.11"
  }
 },
 "nbformat": 4,
 "nbformat_minor": 5
}
