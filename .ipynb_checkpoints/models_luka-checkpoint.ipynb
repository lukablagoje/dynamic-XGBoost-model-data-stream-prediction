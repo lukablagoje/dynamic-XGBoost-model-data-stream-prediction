{
 "cells": [
  {
   "cell_type": "markdown",
   "metadata": {},
   "source": [
    "\n",
    "\n",
    "## Random thoughts and notes (disregard)\n",
    "- Do feature importance test\n",
    "- Add scaling\n",
    "- Think about proper way to test (for time-seriers), that will correspond to the submission and real time testing. For example, maybe our test needs to be two months removed from the training (similar as in real-scenario)\n"
   ]
  },
  {
   "cell_type": "markdown",
   "metadata": {
    "papermill": {
     "duration": 0.014282,
     "end_time": "2023-06-03T01:46:16.695936",
     "exception": false,
     "start_time": "2023-06-03T01:46:16.681654",
     "status": "completed"
    },
    "tags": []
   },
   "source": [
    "# Loading Libraries and Datasets"
   ]
  },
  {
   "cell_type": "code",
   "execution_count": 25,
   "metadata": {
    "_kg_hide-input": false,
    "_kg_hide-output": true,
    "execution": {
     "iopub.execute_input": "2023-09-24T01:16:30.479757Z",
     "iopub.status.busy": "2023-09-24T01:16:30.479022Z",
     "iopub.status.idle": "2023-09-24T01:16:30.898036Z",
     "shell.execute_reply": "2023-09-24T01:16:30.896938Z",
     "shell.execute_reply.started": "2023-09-24T01:16:30.479686Z"
    },
    "papermill": {
     "duration": 4.795021,
     "end_time": "2023-06-03T01:46:36.791162",
     "exception": false,
     "start_time": "2023-06-03T01:46:31.996141",
     "status": "completed"
    },
    "tags": []
   },
   "outputs": [],
   "source": [
    "import numpy as np\n",
    "import pandas as pd\n",
    "import matplotlib.pyplot as plt\n",
    "import seaborn as sns\n",
    "#import tensorflow as tf\n",
    "import os\n",
    "import gc\n",
    "\n",
    "from sklearn import set_config\n",
    "from sklearn.base import clone\n",
    "from sklearn.preprocessing import FunctionTransformer\n",
    "from sklearn.pipeline import make_pipeline\n",
    "from sklearn.model_selection import TimeSeriesSplit\n",
    "from sklearn.metrics import mean_absolute_error\n",
    "\n",
    "sns.set_theme(style = 'white', palette = 'viridis')\n",
    "pal = sns.color_palette('viridis')\n",
    "\n",
    "pd.set_option('display.max_rows', 100)\n",
    "#set_config(transform_output = 'pandas')\n",
    "pd.options.mode.chained_assignment = None\n",
    "\n",
    "from sklearn.model_selection import GridSearchCV\n",
    "from sklearn.model_selection import train_test_split\n",
    "from sklearn.neighbors import KNeighborsRegressor\n",
    "from sklearn.pipeline import Pipeline\n",
    "X_train, X_test, y_train, y_test = train_test_split(X, y, test_size=0.2, random_state=42)\n"
   ]
  },
  {
   "cell_type": "markdown",
   "metadata": {},
   "source": [
    "Due to the size of dataset, we can load all integral features into bytes (int 8) and short (int 16). We can also try to load float features into float 32 or float 16 if we want. You have to keep in mind that this sacrifices the accuracy of our calculation though."
   ]
  },
  {
   "cell_type": "code",
   "execution_count": 26,
   "metadata": {
    "_kg_hide-output": true,
    "execution": {
     "iopub.execute_input": "2023-09-24T00:28:16.180664Z",
     "iopub.status.busy": "2023-09-24T00:28:16.18028Z",
     "iopub.status.idle": "2023-09-24T00:28:37.274287Z",
     "shell.execute_reply": "2023-09-24T00:28:37.272503Z",
     "shell.execute_reply.started": "2023-09-24T00:28:16.180633Z"
    }
   },
   "outputs": [
    {
     "data": {
      "text/plain": [
       "4228"
      ]
     },
     "execution_count": 26,
     "metadata": {},
     "output_type": "execute_result"
    }
   ],
   "source": [
    "dtypes = {\n",
    "    'stock_id' : np.uint8,\n",
    "    'date_id' : np.uint16,\n",
    "    'seconds_in_bucket' : np.uint16,\n",
    "    'imbalance_buy_sell_flag' : np.int8,\n",
    "    'time_id' : np.uint16,\n",
    "}\n",
    "path = \"C:\\\\Users\\\\lukab\\\\Desktop\\\\Optiver\\\\\"\n",
    "train = pd.read_csv(path + 'train.csv', dtype = dtypes).drop(['row_id'], axis = 1)\n",
    "test = pd.read_csv('test.csv', dtype = dtypes).drop(['row_id'], axis = 1)\n",
    "\n",
    "gc.collect()"
   ]
  },
  {
   "cell_type": "markdown",
   "metadata": {},
   "source": [
    "## 1) Using the entire dataset"
   ]
  },
  {
   "cell_type": "code",
   "execution_count": 27,
   "metadata": {},
   "outputs": [],
   "source": [
    "train = train[0:50000]\n",
    "X = train[train.columns[2:-2]]\n",
    "# I choose to fillna with 1\n",
    "X = X.fillna(1)"
   ]
  },
  {
   "cell_type": "code",
   "execution_count": 28,
   "metadata": {},
   "outputs": [
    {
     "data": {
      "text/plain": [
       "0        -3.029704\n",
       "1        -5.519986\n",
       "2        -8.389950\n",
       "3        -4.010200\n",
       "4        -7.349849\n",
       "           ...    \n",
       "49995     2.759695\n",
       "49996    15.419722\n",
       "49997    -0.330210\n",
       "49998     1.189709\n",
       "49999     3.449917\n",
       "Name: target, Length: 50000, dtype: float64"
      ]
     },
     "execution_count": 28,
     "metadata": {},
     "output_type": "execute_result"
    }
   ],
   "source": [
    "y = train[train.columns[-2]]\n",
    "y"
   ]
  },
  {
   "cell_type": "code",
   "execution_count": 29,
   "metadata": {},
   "outputs": [
    {
     "name": "stdout",
     "output_type": "stream",
     "text": [
      "Fitting 5 folds for each of 120 candidates, totalling 600 fits\n"
     ]
    }
   ],
   "source": [
    "from sklearn.model_selection import GridSearchCV\n",
    "from sklearn.model_selection import train_test_split\n",
    "from sklearn.neighbors import KNeighborsRegressor\n",
    "from sklearn.pipeline import Pipeline\n",
    "X_train, X_test, y_train, y_test = train_test_split(X, y, test_size=0.2, random_state=42)\n",
    "\n",
    "names = [\n",
    "         \"KNN Regression\"\n",
    "        ]\n",
    "\n",
    "models = [\n",
    "   KNeighborsRegressor(),\n",
    "]\n",
    "\n",
    "parameters = [{\n",
    "              'clf__n_neighbors': [i for i in range(1,31)],\n",
    "              'clf__weights':['uniform', 'distance'],\n",
    "              'clf__algorithm':['ball_tree','kd_tree']\n",
    "}\n",
    "             ]\n",
    "\n",
    "count=0\n",
    "for name, model, params in zip(names, models, parameters):\n",
    "    count += 1\n",
    "    clf_pipe = Pipeline([\n",
    "        ('clf',model)])\n",
    "    gs_clf = GridSearchCV(clf_pipe, param_grid=params, n_jobs=-1,scoring='neg_mean_absolute_error',verbose=10)\n",
    "    clf = gs_clf.fit(X_train, y_train)\n",
    "    y_pred = clf.predict(X_test)\n",
    "    final_score = np.round(mean_absolute_error(y_test, y_pred),3)"
   ]
  },
  {
   "cell_type": "code",
   "execution_count": 30,
   "metadata": {},
   "outputs": [
    {
     "data": {
      "text/html": [
       "<div>\n",
       "<style scoped>\n",
       "    .dataframe tbody tr th:only-of-type {\n",
       "        vertical-align: middle;\n",
       "    }\n",
       "\n",
       "    .dataframe tbody tr th {\n",
       "        vertical-align: top;\n",
       "    }\n",
       "\n",
       "    .dataframe thead th {\n",
       "        text-align: right;\n",
       "    }\n",
       "</style>\n",
       "<table border=\"1\" class=\"dataframe\">\n",
       "  <thead>\n",
       "    <tr style=\"text-align: right;\">\n",
       "      <th></th>\n",
       "      <th>clf__algorithm</th>\n",
       "      <th>clf__n_neighbors</th>\n",
       "      <th>clf__weights</th>\n",
       "      <th>mean_absolute_error</th>\n",
       "    </tr>\n",
       "  </thead>\n",
       "  <tbody>\n",
       "    <tr>\n",
       "      <th>13</th>\n",
       "      <td>ball_tree</td>\n",
       "      <td>7</td>\n",
       "      <td>distance</td>\n",
       "      <td>5.109</td>\n",
       "    </tr>\n",
       "    <tr>\n",
       "      <th>73</th>\n",
       "      <td>kd_tree</td>\n",
       "      <td>7</td>\n",
       "      <td>distance</td>\n",
       "      <td>5.109</td>\n",
       "    </tr>\n",
       "    <tr>\n",
       "      <th>77</th>\n",
       "      <td>kd_tree</td>\n",
       "      <td>9</td>\n",
       "      <td>distance</td>\n",
       "      <td>5.112</td>\n",
       "    </tr>\n",
       "    <tr>\n",
       "      <th>17</th>\n",
       "      <td>ball_tree</td>\n",
       "      <td>9</td>\n",
       "      <td>distance</td>\n",
       "      <td>5.112</td>\n",
       "    </tr>\n",
       "    <tr>\n",
       "      <th>75</th>\n",
       "      <td>kd_tree</td>\n",
       "      <td>8</td>\n",
       "      <td>distance</td>\n",
       "      <td>5.112</td>\n",
       "    </tr>\n",
       "    <tr>\n",
       "      <th>15</th>\n",
       "      <td>ball_tree</td>\n",
       "      <td>8</td>\n",
       "      <td>distance</td>\n",
       "      <td>5.112</td>\n",
       "    </tr>\n",
       "    <tr>\n",
       "      <th>25</th>\n",
       "      <td>ball_tree</td>\n",
       "      <td>13</td>\n",
       "      <td>distance</td>\n",
       "      <td>5.113</td>\n",
       "    </tr>\n",
       "    <tr>\n",
       "      <th>85</th>\n",
       "      <td>kd_tree</td>\n",
       "      <td>13</td>\n",
       "      <td>distance</td>\n",
       "      <td>5.113</td>\n",
       "    </tr>\n",
       "    <tr>\n",
       "      <th>87</th>\n",
       "      <td>kd_tree</td>\n",
       "      <td>14</td>\n",
       "      <td>distance</td>\n",
       "      <td>5.114</td>\n",
       "    </tr>\n",
       "    <tr>\n",
       "      <th>27</th>\n",
       "      <td>ball_tree</td>\n",
       "      <td>14</td>\n",
       "      <td>distance</td>\n",
       "      <td>5.114</td>\n",
       "    </tr>\n",
       "  </tbody>\n",
       "</table>\n",
       "</div>"
      ],
      "text/plain": [
       "   clf__algorithm  clf__n_neighbors clf__weights  mean_absolute_error\n",
       "13      ball_tree                 7     distance                5.109\n",
       "73        kd_tree                 7     distance                5.109\n",
       "77        kd_tree                 9     distance                5.112\n",
       "17      ball_tree                 9     distance                5.112\n",
       "75        kd_tree                 8     distance                5.112\n",
       "15      ball_tree                 8     distance                5.112\n",
       "25      ball_tree                13     distance                5.113\n",
       "85        kd_tree                13     distance                5.113\n",
       "87        kd_tree                14     distance                5.114\n",
       "27      ball_tree                14     distance                5.114"
      ]
     },
     "execution_count": 30,
     "metadata": {},
     "output_type": "execute_result"
    }
   ],
   "source": [
    "# Gridsearch results\n",
    "results_df = pd.concat([pd.DataFrame(clf.cv_results_[\"params\"]),pd.DataFrame(clf.cv_results_[\"mean_test_score\"], columns=[\"mean_test_score\"])],axis=1)\n",
    "results_df = results_df.sort_values(by=[\"mean_test_score\"],ascending= False)\n",
    "results_df['mean_absolute_error'] = -1 * results_df[\"mean_test_score\"].round(3)\n",
    "results_df.drop('mean_test_score',axis=1,inplace=True)\n",
    "results_df.head(10)"
   ]
  },
  {
   "cell_type": "code",
   "execution_count": 31,
   "metadata": {},
   "outputs": [
    {
     "name": "stdout",
     "output_type": "stream",
     "text": [
      "The final score is 4.83 with the model KNN Regression with parameters {'clf__algorithm': 'ball_tree', 'clf__n_neighbors': 7, 'clf__weights': 'distance'} that had a cross-validation score of 5.109 .\n"
     ]
    }
   ],
   "source": [
    "print('The final score is',final_score,'with the model',name,'with parameters',clf.best_params_, 'that had a cross-validation score of',abs(np.round(clf.best_score_,3)),'.')"
   ]
  },
  {
   "cell_type": "code",
   "execution_count": 1,
   "metadata": {},
   "outputs": [
    {
     "ename": "ModuleNotFoundError",
     "evalue": "No module named 'optiver2023'",
     "output_type": "error",
     "traceback": [
      "\u001b[1;31m---------------------------------------------------------------------------\u001b[0m",
      "\u001b[1;31mModuleNotFoundError\u001b[0m                       Traceback (most recent call last)",
      "\u001b[1;32m~\\AppData\\Local\\Temp/ipykernel_31964/3037416954.py\u001b[0m in \u001b[0;36m<module>\u001b[1;34m\u001b[0m\n\u001b[1;32m----> 1\u001b[1;33m \u001b[1;32mimport\u001b[0m \u001b[0moptiver2023\u001b[0m\u001b[1;33m\u001b[0m\u001b[1;33m\u001b[0m\u001b[0m\n\u001b[0m\u001b[0;32m      2\u001b[0m \u001b[0menv\u001b[0m \u001b[1;33m=\u001b[0m \u001b[0moptiver2023\u001b[0m\u001b[1;33m.\u001b[0m\u001b[0mmake_env\u001b[0m\u001b[1;33m(\u001b[0m\u001b[1;33m)\u001b[0m\u001b[1;33m\u001b[0m\u001b[1;33m\u001b[0m\u001b[0m\n\u001b[0;32m      3\u001b[0m \u001b[0miter_test\u001b[0m \u001b[1;33m=\u001b[0m \u001b[0menv\u001b[0m\u001b[1;33m.\u001b[0m\u001b[0miter_test\u001b[0m\u001b[1;33m(\u001b[0m\u001b[1;33m)\u001b[0m\u001b[1;33m\u001b[0m\u001b[1;33m\u001b[0m\u001b[0m\n",
      "\u001b[1;31mModuleNotFoundError\u001b[0m: No module named 'optiver2023'"
     ]
    }
   ],
   "source": [
    "import optiver2023\n",
    "env = optiver2023.make_env()\n",
    "iter_test = env.iter_test()\n",
    "\n",
    "counter = 0\n",
    "for (test, revealed_targets, sample_prediction) in iter_test:\n",
    "    if counter == 0:\n",
    "        print(test.head(3))\n",
    "        print(revealed_targets.head(3))\n",
    "        print(sample_prediction.head(3))\n",
    "    sample_prediction['target'] = 0\n",
    "    env.predict(sample_prediction)\n",
    "    counter += 1"
   ]
  },
  {
   "cell_type": "code",
   "execution_count": null,
   "metadata": {},
   "outputs": [],
   "source": []
  }
 ],
 "metadata": {
  "kernelspec": {
   "display_name": "Python 3 (ipykernel)",
   "language": "python",
   "name": "python3"
  },
  "language_info": {
   "codemirror_mode": {
    "name": "ipython",
    "version": 3
   },
   "file_extension": ".py",
   "mimetype": "text/x-python",
   "name": "python",
   "nbconvert_exporter": "python",
   "pygments_lexer": "ipython3",
   "version": "3.8.11"
  }
 },
 "nbformat": 4,
 "nbformat_minor": 4
}
